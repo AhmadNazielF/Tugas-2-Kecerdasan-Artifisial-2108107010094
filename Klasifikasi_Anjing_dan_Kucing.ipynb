{
 "cells": [
  {
   "cell_type": "markdown",
   "metadata": {},
   "source": [
    "# Import Libaries"
   ]
  },
  {
   "cell_type": "code",
   "execution_count": 2,
   "metadata": {},
   "outputs": [],
   "source": [
    "import urllib.request\n",
    "import tensorflow as tf\n",
    "import os\n",
    "from keras.preprocessing.image import ImageDataGenerator\n",
    "from keras.optimizers import Adam\n",
    "from PIL import Image"
   ]
  },
  {
   "cell_type": "markdown",
   "metadata": {},
   "source": [
    "# PREPROCESSING DATA"
   ]
  },
  {
   "cell_type": "code",
   "execution_count": 4,
   "metadata": {},
   "outputs": [
    {
     "name": "stdout",
     "output_type": "stream",
     "text": [
      "Found 861 images belonging to 2 classes.\n",
      "Found 140 images belonging to 2 classes.\n"
     ]
    }
   ],
   "source": [
    "TRAINING_DIR = 'data/train'\n",
    "train_datagen = ImageDataGenerator(rescale=1.0/255.0)  # Normalize pixel values between 0 and 1\n",
    "\n",
    "# Load training data\n",
    "train_generator = train_datagen.flow_from_directory(\n",
    "    TRAINING_DIR,\n",
    "    target_size=(150, 150),  # Resize images to 150x150\n",
    "    batch_size=128, # 128 images per batch \n",
    "    class_mode='binary' # binary labels\n",
    "    )\n",
    "\n",
    "        \n",
    "VALIDATION_DIR = 'data/validation'\n",
    "validation_datagen = ImageDataGenerator(rescale=1.0/255.0)  # Normalize pixel values between 0 and 1\n",
    "\n",
    "# Load validation data\n",
    "validation_generator = validation_datagen.flow_from_directory(\n",
    "VALIDATION_DIR,\n",
    "target_size=(150, 150),  # Resize images to 150x150\n",
    "batch_size=32,\n",
    "class_mode='binary')"
   ]
  },
  {
   "cell_type": "markdown",
   "metadata": {},
   "source": [
    "# DEFINE MODEL"
   ]
  },
  {
   "cell_type": "code",
   "execution_count": 20,
   "metadata": {},
   "outputs": [],
   "source": [
    "model = tf.keras.models.Sequential([\n",
    "\n",
    "    #convolution lay16\n",
    "    tf.keras.layers.Conv2D(32,(3,3), activation='relu', input_shape = (150,150,3)),\n",
    "    tf.keras.layers.MaxPooling2D(2,2),\n",
    "    tf.keras.layers.Conv2D(64,(3,3), activation='relu'),\n",
    "    tf.keras.layers.MaxPooling2D(2,2),\n",
    "    #Flatern layer\n",
    "    tf.keras.layers.Flatten(),\n",
    "    tf.keras.layers.Dense(512, activation='relu'),\n",
    "\n",
    "    #output layer\n",
    "     tf.keras.layers.Dense(1, activation='sigmoid'), # Sigmoid untuk 2 kelas, softmax untuk  multiiclass\n",
    "\n",
    "])"
   ]
  },
  {
   "cell_type": "code",
   "execution_count": 23,
   "metadata": {},
   "outputs": [
    {
     "name": "stdout",
     "output_type": "stream",
     "text": [
      "Model: \"sequential_7\"\n",
      "_________________________________________________________________\n",
      " Layer (type)                Output Shape              Param #   \n",
      "=================================================================\n",
      " conv2d_16 (Conv2D)          (None, 148, 148, 32)      896       \n",
      "                                                                 \n",
      " max_pooling2d_16 (MaxPooli  (None, 74, 74, 32)        0         \n",
      " ng2D)                                                           \n",
      "                                                                 \n",
      " conv2d_17 (Conv2D)          (None, 72, 72, 64)        18496     \n",
      "                                                                 \n",
      " max_pooling2d_17 (MaxPooli  (None, 36, 36, 64)        0         \n",
      " ng2D)                                                           \n",
      "                                                                 \n",
      " flatten_7 (Flatten)         (None, 82944)             0         \n",
      "                                                                 \n",
      " dense_14 (Dense)            (None, 512)               42467840  \n",
      "                                                                 \n",
      " dense_15 (Dense)            (None, 1)                 513       \n",
      "                                                                 \n",
      "=================================================================\n",
      "Total params: 42487745 (162.08 MB)\n",
      "Trainable params: 42487745 (162.08 MB)\n",
      "Non-trainable params: 0 (0.00 Byte)\n",
      "_________________________________________________________________\n"
     ]
    }
   ],
   "source": [
    "# lihat arsitektur model\n",
    "model.summary()"
   ]
  },
  {
   "cell_type": "markdown",
   "metadata": {},
   "source": [
    "# COMPILE A MODEL"
   ]
  },
  {
   "cell_type": "code",
   "execution_count": 21,
   "metadata": {},
   "outputs": [
    {
     "name": "stdout",
     "output_type": "stream",
     "text": [
      "Epoch 1/50\n",
      "7/7 [==============================] - 20s 3s/step - loss: 4.3593 - acc: 0.5168 - val_loss: 1.1028 - val_acc: 0.5000\n",
      "Epoch 2/50\n",
      "7/7 [==============================] - 17s 2s/step - loss: 0.8424 - acc: 0.5273 - val_loss: 0.6982 - val_acc: 0.5000\n",
      "Epoch 3/50\n",
      "7/7 [==============================] - 18s 2s/step - loss: 0.6664 - acc: 0.5470 - val_loss: 0.6776 - val_acc: 0.5143\n",
      "Epoch 4/50\n",
      "7/7 [==============================] - 18s 3s/step - loss: 0.6172 - acc: 0.6852 - val_loss: 0.6947 - val_acc: 0.5714\n",
      "Epoch 5/50\n",
      "7/7 [==============================] - 18s 3s/step - loss: 0.5078 - acc: 0.7933 - val_loss: 0.6358 - val_acc: 0.6286\n",
      "Epoch 6/50\n",
      "7/7 [==============================] - 18s 2s/step - loss: 0.4539 - acc: 0.7805 - val_loss: 0.6221 - val_acc: 0.6000\n",
      "Epoch 7/50\n",
      "7/7 [==============================] - 18s 3s/step - loss: 0.3932 - acc: 0.9036 - val_loss: 0.6376 - val_acc: 0.6143\n",
      "Epoch 8/50\n",
      "7/7 [==============================] - 18s 2s/step - loss: 0.3027 - acc: 0.9257 - val_loss: 0.6437 - val_acc: 0.6714\n",
      "Epoch 9/50\n",
      "7/7 [==============================] - 17s 2s/step - loss: 0.2506 - acc: 0.9048 - val_loss: 0.8625 - val_acc: 0.6286\n",
      "Epoch 10/50\n",
      "7/7 [==============================] - 17s 3s/step - loss: 0.2141 - acc: 0.9373 - val_loss: 0.6470 - val_acc: 0.6500\n",
      "Epoch 11/50\n",
      "7/7 [==============================] - 17s 2s/step - loss: 0.1676 - acc: 0.9826 - val_loss: 0.7608 - val_acc: 0.6429\n",
      "Epoch 12/50\n",
      "7/7 [==============================] - 17s 2s/step - loss: 0.1135 - acc: 0.9803 - val_loss: 0.8033 - val_acc: 0.6500\n",
      "Epoch 13/50\n",
      "7/7 [==============================] - 17s 2s/step - loss: 0.0798 - acc: 0.9803 - val_loss: 0.8427 - val_acc: 0.6571\n",
      "Epoch 14/50\n",
      "7/7 [==============================] - 17s 2s/step - loss: 0.0527 - acc: 0.9954 - val_loss: 0.8553 - val_acc: 0.6571\n",
      "Epoch 15/50\n",
      "7/7 [==============================] - 17s 2s/step - loss: 0.0339 - acc: 1.0000 - val_loss: 0.8832 - val_acc: 0.6429\n",
      "Epoch 16/50\n",
      "7/7 [==============================] - 17s 2s/step - loss: 0.0214 - acc: 0.9988 - val_loss: 0.9199 - val_acc: 0.6786\n",
      "Epoch 17/50\n",
      "7/7 [==============================] - 17s 2s/step - loss: 0.0150 - acc: 1.0000 - val_loss: 1.0602 - val_acc: 0.6857\n",
      "Epoch 18/50\n",
      "7/7 [==============================] - 17s 2s/step - loss: 0.0092 - acc: 1.0000 - val_loss: 1.0035 - val_acc: 0.6714\n",
      "Epoch 19/50\n",
      "7/7 [==============================] - 17s 2s/step - loss: 0.0067 - acc: 1.0000 - val_loss: 1.0508 - val_acc: 0.6643\n",
      "Epoch 20/50\n",
      "7/7 [==============================] - 18s 2s/step - loss: 0.0047 - acc: 1.0000 - val_loss: 1.0984 - val_acc: 0.6571\n",
      "Epoch 21/50\n",
      "7/7 [==============================] - 18s 3s/step - loss: 0.0035 - acc: 1.0000 - val_loss: 1.0852 - val_acc: 0.6643\n",
      "Epoch 22/50\n",
      "7/7 [==============================] - 17s 2s/step - loss: 0.0028 - acc: 1.0000 - val_loss: 1.1115 - val_acc: 0.6643\n",
      "Epoch 23/50\n",
      "7/7 [==============================] - 18s 2s/step - loss: 0.0022 - acc: 1.0000 - val_loss: 1.1580 - val_acc: 0.6714\n",
      "Epoch 24/50\n",
      "7/7 [==============================] - 17s 2s/step - loss: 0.0019 - acc: 1.0000 - val_loss: 1.1575 - val_acc: 0.6714\n",
      "Epoch 25/50\n",
      "7/7 [==============================] - 18s 3s/step - loss: 0.0016 - acc: 1.0000 - val_loss: 1.2142 - val_acc: 0.6643\n",
      "Epoch 26/50\n",
      "7/7 [==============================] - 18s 2s/step - loss: 0.0014 - acc: 1.0000 - val_loss: 1.2191 - val_acc: 0.6571\n",
      "Epoch 27/50\n",
      "7/7 [==============================] - 17s 2s/step - loss: 0.0012 - acc: 1.0000 - val_loss: 1.2065 - val_acc: 0.6643\n",
      "Epoch 28/50\n",
      "7/7 [==============================] - 17s 2s/step - loss: 0.0011 - acc: 1.0000 - val_loss: 1.2390 - val_acc: 0.6643\n",
      "Epoch 29/50\n",
      "7/7 [==============================] - 17s 2s/step - loss: 9.1555e-04 - acc: 1.0000 - val_loss: 1.2475 - val_acc: 0.6571\n",
      "Epoch 30/50\n",
      "7/7 [==============================] - 17s 2s/step - loss: 7.8340e-04 - acc: 1.0000 - val_loss: 1.2791 - val_acc: 0.6714\n",
      "Epoch 31/50\n",
      "7/7 [==============================] - 18s 3s/step - loss: 6.9235e-04 - acc: 1.0000 - val_loss: 1.2943 - val_acc: 0.6643\n",
      "Epoch 32/50\n",
      "7/7 [==============================] - 17s 2s/step - loss: 6.1386e-04 - acc: 1.0000 - val_loss: 1.2982 - val_acc: 0.6714\n",
      "Epoch 33/50\n",
      "7/7 [==============================] - 17s 2s/step - loss: 5.5306e-04 - acc: 1.0000 - val_loss: 1.3198 - val_acc: 0.6571\n",
      "Epoch 34/50\n",
      "7/7 [==============================] - 17s 2s/step - loss: 4.9729e-04 - acc: 1.0000 - val_loss: 1.3252 - val_acc: 0.6571\n",
      "Epoch 35/50\n",
      "7/7 [==============================] - 17s 2s/step - loss: 4.5149e-04 - acc: 1.0000 - val_loss: 1.3386 - val_acc: 0.6786\n",
      "Epoch 36/50\n",
      "7/7 [==============================] - 17s 2s/step - loss: 4.0844e-04 - acc: 1.0000 - val_loss: 1.3479 - val_acc: 0.6786\n",
      "Epoch 37/50\n",
      "7/7 [==============================] - 17s 2s/step - loss: 3.6995e-04 - acc: 1.0000 - val_loss: 1.3567 - val_acc: 0.6643\n",
      "Epoch 38/50\n",
      "7/7 [==============================] - 17s 2s/step - loss: 3.3795e-04 - acc: 1.0000 - val_loss: 1.3695 - val_acc: 0.6714\n",
      "Epoch 39/50\n",
      "7/7 [==============================] - 17s 2s/step - loss: 3.0950e-04 - acc: 1.0000 - val_loss: 1.3749 - val_acc: 0.6643\n",
      "Epoch 40/50\n",
      "7/7 [==============================] - 17s 2s/step - loss: 2.8251e-04 - acc: 1.0000 - val_loss: 1.3910 - val_acc: 0.6786\n",
      "Epoch 41/50\n",
      "7/7 [==============================] - 17s 2s/step - loss: 2.6286e-04 - acc: 1.0000 - val_loss: 1.4038 - val_acc: 0.6643\n",
      "Epoch 42/50\n",
      "7/7 [==============================] - 17s 2s/step - loss: 2.4161e-04 - acc: 1.0000 - val_loss: 1.4098 - val_acc: 0.6643\n",
      "Epoch 43/50\n",
      "7/7 [==============================] - 17s 2s/step - loss: 2.2098e-04 - acc: 1.0000 - val_loss: 1.4270 - val_acc: 0.6714\n",
      "Epoch 44/50\n",
      "7/7 [==============================] - 17s 2s/step - loss: 2.0468e-04 - acc: 1.0000 - val_loss: 1.4269 - val_acc: 0.6643\n",
      "Epoch 45/50\n",
      "7/7 [==============================] - 17s 2s/step - loss: 1.8916e-04 - acc: 1.0000 - val_loss: 1.4397 - val_acc: 0.6643\n",
      "Epoch 46/50\n",
      "7/7 [==============================] - 17s 2s/step - loss: 1.7572e-04 - acc: 1.0000 - val_loss: 1.4501 - val_acc: 0.6643\n",
      "Epoch 47/50\n",
      "7/7 [==============================] - 17s 2s/step - loss: 1.6359e-04 - acc: 1.0000 - val_loss: 1.4671 - val_acc: 0.6714\n",
      "Epoch 48/50\n",
      "7/7 [==============================] - 17s 2s/step - loss: 1.5317e-04 - acc: 1.0000 - val_loss: 1.4635 - val_acc: 0.6643\n",
      "Epoch 49/50\n",
      "7/7 [==============================] - 17s 2s/step - loss: 1.4210e-04 - acc: 1.0000 - val_loss: 1.4872 - val_acc: 0.6643\n",
      "Epoch 50/50\n",
      "7/7 [==============================] - 17s 2s/step - loss: 1.3422e-04 - acc: 1.0000 - val_loss: 1.4856 - val_acc: 0.6643\n"
     ]
    }
   ],
   "source": [
    "model.compile(\n",
    "   loss = \"binary_crossentropy\",\n",
    "   optimizer='Adam',\n",
    "   metrics=['acc']\n",
    ")\n",
    "\n",
    "\n",
    "history = model.fit(\n",
    "    train_generator,\n",
    "    epochs= 50,\n",
    "    verbose= 1,\n",
    "    validation_data=validation_generator,\n",
    ")"
   ]
  },
  {
   "cell_type": "markdown",
   "metadata": {},
   "source": [
    "# PERFORMING ERROR ANALYSIS"
   ]
  },
  {
   "cell_type": "code",
   "execution_count": 22,
   "metadata": {},
   "outputs": [
    {
     "data": {
      "text/plain": [
       "<Figure size 640x480 with 0 Axes>"
      ]
     },
     "execution_count": 22,
     "metadata": {},
     "output_type": "execute_result"
    },
    {
     "data": {
      "image/png": "[encoded data removed]",
      "text/plain": [
       "<Figure size 640x480 with 1 Axes>"
      ]
     },
     "metadata": {},
     "output_type": "display_data"
    },
    {
     "data": {
      "text/plain": [
       "<Figure size 640x480 with 0 Axes>"
      ]
     },
     "metadata": {},
     "output_type": "display_data"
    }
   ],
   "source": [
    "import matplotlib.pyplot as plt\n",
    "\n",
    "# Retrieve a list of list results on training and test data sets for each training epoch\n",
    "\n",
    "acc = history.history['acc']\n",
    "val_acc = history.history['val_acc']\n",
    "\n",
    "loss = history.history['loss']\n",
    "val_loss = history.history['val_loss']\n",
    "\n",
    "\n",
    "# Plot training and validation accuracy per epoch\n",
    "\n",
    "plt.plot(acc)\n",
    "plt.plot(val_acc)\n",
    "plt.title('Training and validation accuracy')\n",
    "plt.ylabel('accuracy')\n",
    "plt.xlabel('epoch')\n",
    "plt.legend(['train', 'val'], loc='upper left')\n",
    "plt.figure()"
   ]
  },
  {
   "cell_type": "markdown",
   "metadata": {},
   "source": [
    "# Save model"
   ]
  },
  {
   "cell_type": "code",
   "execution_count": 24,
   "metadata": {},
   "outputs": [
    {
     "name": "stderr",
     "output_type": "stream",
     "text": [
      "d:\\project\\pyton learning\\env_prak_ai\\lib\\site-packages\\keras\\src\\engine\\training.py:3079: UserWarning: You are saving your model as an HDF5 file via `model.save()`. This file format is considered legacy. We recommend using instead the native Keras format, e.g. `model.save('my_model.keras')`.\n",
      "  saving_api.save_model(\n"
     ]
    }
   ],
   "source": [
    "model.save('Klasifikasi_gambar_anjing_dan-kucing.h5')"
   ]
  },
  {
   "cell_type": "markdown",
   "metadata": {},
   "source": [
    "# Load model"
   ]
  },
  {
   "cell_type": "code",
   "execution_count": 3,
   "metadata": {},
   "outputs": [],
   "source": [
    "model = tf.keras.models.load_model('Klasifikasi_gambar_anjing_dan-kucing.h5')"
   ]
  },
  {
   "cell_type": "markdown",
   "metadata": {},
   "source": [
    "# Menghitung weight"
   ]
  },
  {
   "cell_type": "code",
   "execution_count": 8,
   "metadata": {},
   "outputs": [
    {
     "name": "stdout",
     "output_type": "stream",
     "text": [
      "Total number of weights in the model: 42487745\n"
     ]
    }
   ],
   "source": [
    "# Hitung total bobot\n",
    "total_weights = sum([len(layer.numpy().flatten()) for layer in model.trainable_variables])\n",
    "\n",
    "print(f\"Total number of weights in the model: {total_weights}\")"
   ]
  },
  {
   "cell_type": "markdown",
   "metadata": {},
   "source": [
    "# INFERENCE"
   ]
  },
  {
   "cell_type": "code",
   "execution_count": null,
   "metadata": {},
   "outputs": [
    {
     "name": "stdout",
     "output_type": "stream",
     "text": [
      "1/1 [==============================] - 0s 93ms/step\n",
      "The image is predicted as a kucing\n"
     ]
    }
   ],
   "source": [
    "from keras.preprocessing import image\n",
    "import numpy as np\n",
    "\n",
    "def predict_image_class(image_path):\n",
    "    img = image.load_img(image_path, target_size=(150, 150))\n",
    "    x = image.img_to_array(img)\n",
    "    x = np.expand_dims(x, axis=0)\n",
    "    classes = model.predict(x)\n",
    "    return classes[0][0]\n",
    "\n",
    "# Upload an image from your local system\n",
    "def upload_and_predict():\n",
    "    image_path = input(\"Enter the file path of the image: \")\n",
    "    confidence = predict_image_class(image_path)\n",
    "    if confidence > 0.5:\n",
    "        print(f\"The image is predicted as a anjing\")\n",
    "    else:\n",
    "        print(f\"The image is predicted as a kucing\")\n",
    "\n",
    "# Perform the image upload and prediction\n",
    "upload_and_predict()"
   ]
  }
 ],
 "metadata": {
  "kernelspec": {
   "display_name": "env_prak_ai",
   "language": "python",
   "name": "python3"
  },
  "language_info": {
   "codemirror_mode": {
    "name": "ipython",
    "version": 3
   },
   "file_extension": ".py",
   "mimetype": "text/x-python",
   "name": "python",
   "nbconvert_exporter": "python",
   "pygments_lexer": "ipython3",
   "version": "3.10.4"
  }
 },
 "nbformat": 4,
 "nbformat_minor": 2
}
